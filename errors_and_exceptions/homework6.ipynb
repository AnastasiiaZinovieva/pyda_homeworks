{
 "cells": [
  {
   "cell_type": "markdown",
   "metadata": {},
   "source": [
    "Задание 1\n",
    "Печатные газеты использовали свой формат дат для каждого выпуска. Для каждой газеты из списка напишите формат указанной даты для перевода в объект datetime:\n",
    "\n",
    "The Moscow Times - Wednesday, October 2, 2002\n",
    "\n",
    "The Guardian - Friday, 11.10.13\n",
    "\n",
    "Daily News - Thursday, 18 August 1977"
   ]
  },
  {
   "cell_type": "code",
   "execution_count": 2,
   "metadata": {},
   "outputs": [],
   "source": [
    "from datetime import datetime"
   ]
  },
  {
   "cell_type": "code",
   "execution_count": 19,
   "metadata": {
    "scrolled": true
   },
   "outputs": [
    {
     "name": "stdout",
     "output_type": "stream",
     "text": [
      "2002-10-02 00:00:00 | 2 | Wednesday, October 02, 2002\n"
     ]
    }
   ],
   "source": [
    "myformat = \"%A, %B %d, %Y\"\n",
    "dt = datetime.strptime(\"Wednesday, October 2, 2002\", myformat)\n",
    "print(dt, dateTime.weekday(), dt.strftime(myformat), sep=' | ')"
   ]
  },
  {
   "cell_type": "code",
   "execution_count": 23,
   "metadata": {},
   "outputs": [
    {
     "name": "stdout",
     "output_type": "stream",
     "text": [
      "2013-10-11 00:00:00 | 6 | Friday, 11.10.13\n"
     ]
    }
   ],
   "source": [
    "myformat = \"%A, %d.%m.%y\"\n",
    "dt = datetime.strptime(\"Friday, 11.10.13\", myformat)\n",
    "print(dt, dateTime.weekday(), dt.strftime(myformat), sep=' | ')"
   ]
  },
  {
   "cell_type": "code",
   "execution_count": 24,
   "metadata": {},
   "outputs": [
    {
     "name": "stdout",
     "output_type": "stream",
     "text": [
      "1977-08-18 00:00:00 | 6 | Thursday, 18 August 1977\n"
     ]
    }
   ],
   "source": [
    "myformat = \"%A, %d %B %Y\"\n",
    "dt = datetime.strptime(\"Thursday, 18 August 1977\", myformat)\n",
    "print(dt, dateTime.weekday(), dt.strftime(myformat), sep=' | ')"
   ]
  },
  {
   "cell_type": "markdown",
   "metadata": {},
   "source": [
    "Задание 2\n",
    "Дан поток дат в формате YYYY-MM-DD, в которых встречаются некорректные значения:\n",
    "stream = [‘2018-04-02’, ‘2018-02-29’, ‘2018-19-02’]\n",
    "\n",
    "Напишите функцию, которая проверяет эти даты на корректность. Т. е. для каждой даты возвращает True (дата корректна) или False (некорректная дата)."
   ]
  },
  {
   "cell_type": "code",
   "execution_count": 39,
   "metadata": {},
   "outputs": [],
   "source": [
    "def isCorrectDate(string):\n",
    "    try:\n",
    "        dateTime.strptime(string, \"%Y-%m-%d\")\n",
    "        return True\n",
    "    except:\n",
    "        return False\n"
   ]
  },
  {
   "cell_type": "code",
   "execution_count": 41,
   "metadata": {},
   "outputs": [
    {
     "name": "stdout",
     "output_type": "stream",
     "text": [
      "2018-04-02 True\n",
      "2018-02-29 False\n",
      "2018-19-02 False\n"
     ]
    }
   ],
   "source": [
    "stream = ['2018-04-02', '2018-02-29', '2018-19-02']\n",
    "for s in stream:\n",
    "    print(s, isCorrectDate(s))"
   ]
  },
  {
   "cell_type": "markdown",
   "metadata": {},
   "source": [
    "Задание 3\n",
    "Напишите функцию date_range, которая возвращает список дат за период от start_date до end_date. Даты должны вводиться в формате YYYY-MM-DD. В случае неверного формата или при start_date > end_date должен возвращаться пустой список."
   ]
  },
  {
   "cell_type": "code",
   "execution_count": 49,
   "metadata": {},
   "outputs": [
    {
     "name": "stdout",
     "output_type": "stream",
     "text": [
      "['2018-02-28', '2018-03-01', '2018-03-02']\n",
      "[]\n",
      "[]\n"
     ]
    }
   ],
   "source": [
    "from datetime import timedelta\n",
    "def date_range(start_date, end_date):\n",
    "    try:\n",
    "        start = dateTime.strptime(start_date, \"%Y-%m-%d\")\n",
    "        end = dateTime.strptime(end_date, \"%Y-%m-%d\")\n",
    "        result = []\n",
    "        current = start\n",
    "        while current <= end:\n",
    "            result.append(current.strftime(\"%Y-%m-%d\"))\n",
    "            current += timedelta(days = 1)\n",
    "        return result\n",
    "    except:\n",
    "       return []\n",
    "    \n",
    "print(date_range('2018-02-28', '2018-03-02'))\n",
    "print(date_range('2018-04-02', '2018-02-29'))\n",
    "print(date_range('2018-04-02', '2018-02-27'))\n"
   ]
  },
  {
   "cell_type": "code",
   "execution_count": null,
   "metadata": {},
   "outputs": [],
   "source": []
  },
  {
   "cell_type": "code",
   "execution_count": null,
   "metadata": {},
   "outputs": [],
   "source": []
  }
 ],
 "metadata": {
  "kernelspec": {
   "display_name": "Python 3",
   "language": "python",
   "name": "python3"
  },
  "language_info": {
   "codemirror_mode": {
    "name": "ipython",
    "version": 3
   },
   "file_extension": ".py",
   "mimetype": "text/x-python",
   "name": "python",
   "nbconvert_exporter": "python",
   "pygments_lexer": "ipython3",
   "version": "3.7.6"
  }
 },
 "nbformat": 4,
 "nbformat_minor": 4
}
