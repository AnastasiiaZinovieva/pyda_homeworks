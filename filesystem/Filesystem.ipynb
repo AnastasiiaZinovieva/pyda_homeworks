{
 "cells": [
  {
   "cell_type": "code",
   "execution_count": 22,
   "metadata": {},
   "outputs": [],
   "source": [
    "#Переведите содержимое файла purchase_log.txt в словарь purchases вида:\n",
    "#{‘1840e0b9d4’: ‘Продукты’, …}\n",
    "import json\n",
    "purchases = {}\n",
    "f = open(\"purchase_log.txt\", \"r\")\n",
    "for i, line in enumerate(f):\n",
    "    d = json.loads(line)\n",
    "    user = d[\"user_id\"]\n",
    "    category = d[\"category\"]\n",
    "    purchases[user] = category\n",
    "#    if i > 5:        break\n",
    "f.close()"
   ]
  },
  {
   "cell_type": "code",
   "execution_count": 23,
   "metadata": {},
   "outputs": [],
   "source": [
    "#Для каждого user_id в файле visit_log.csv определите третий столбец с категорией покупки \n",
    "#(если покупка была, сам файл visit_log.csv изменять не надо). Запишите в файл funnel.csv визиты из файла \n",
    "#visit_log.csv, в которых были покупки с указанием категории.\n",
    "#Учтите условия на данные:\n",
    "#содержимое purchase_log.txt помещается в оперативную память компьютера\n",
    "#содержимое visit_log.csv - нет; используйте только построчную обработку этого файла\n"
   ]
  },
  {
   "cell_type": "code",
   "execution_count": 44,
   "metadata": {},
   "outputs": [],
   "source": [
    "with open (\"visit_log.csv\", \"r\") as f:\n",
    "    with open (\"funnel.csv\", \"w\") as fw:\n",
    "        i = 0\n",
    "        for line in f:\n",
    "           # if i > 100: break\n",
    "            l = line.strip().split(\",\")\n",
    "            user = l[0]\n",
    "            if user in purchases:\n",
    "                l.append(purchases[user])\n",
    "                fw.write(\",\".join(l) + \"\\n\")\n",
    "            i +=1\n",
    "            "
   ]
  },
  {
   "cell_type": "code",
   "execution_count": null,
   "metadata": {},
   "outputs": [],
   "source": []
  }
 ],
 "metadata": {
  "kernelspec": {
   "display_name": "Python 3",
   "language": "python",
   "name": "python3"
  },
  "language_info": {
   "codemirror_mode": {
    "name": "ipython",
    "version": 3
   },
   "file_extension": ".py",
   "mimetype": "text/x-python",
   "name": "python",
   "nbconvert_exporter": "python",
   "pygments_lexer": "ipython3",
   "version": "3.7.6"
  }
 },
 "nbformat": 4,
 "nbformat_minor": 4
}
